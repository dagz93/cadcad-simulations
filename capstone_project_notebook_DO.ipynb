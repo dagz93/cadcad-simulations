{
 "cells": [
  {
   "cell_type": "code",
   "execution_count": 1,
   "id": "bf7737d6",
   "metadata": {},
   "outputs": [],
   "source": [
    "import pandas as pd\n",
    "import numpy as np #mathematical variables\n",
    "from random import normalvariate #used for stockhastic process\n",
    "import plotly.express as px #python library for complex plot\n",
    "\n",
    "from cadCAD.configuration.utils import config_sim\n",
    "from cadCAD.configuration import Experiment\n",
    "from cadCAD.engine import ExecutionContext, Executor"
   ]
  },
  {
   "cell_type": "markdown",
   "id": "5cee0520",
   "metadata": {},
   "source": [
    "### 1. State Variables"
   ]
  },
  {
   "cell_type": "markdown",
   "id": "86b97c6f",
   "metadata": {},
   "source": [
    "The states we are interested in, their state variables and their initial values are:\n",
    "\n",
    "* The __atmosphere's CO2 concentration__ in parts per million (ppm): `co2`, initial value 400\n",
    "* The __earth's surface temperature__ in Kelvin (K): `temperature`, initial value 290\n",
    "    \n",
    "<!--**Create a dictionary and define the above state variables and their initial values:**-->"
   ]
  },
  {
   "cell_type": "code",
   "execution_count": 2,
   "id": "f69112d7",
   "metadata": {},
   "outputs": [],
   "source": [
    "initial_state = {\n",
    "    'co2' : 400,\n",
    "    'temperature' : 290\n",
    "}"
   ]
  },
  {
   "cell_type": "code",
   "execution_count": 3,
   "id": "ecd2f613",
   "metadata": {},
   "outputs": [
    {
     "data": {
      "text/plain": [
       "{'co2': 400, 'temperature': 290}"
      ]
     },
     "execution_count": 3,
     "metadata": {},
     "output_type": "execute_result"
    }
   ],
   "source": [
    "initial_state"
   ]
  },
  {
   "cell_type": "markdown",
   "id": "fe6c0bed",
   "metadata": {},
   "source": [
    "**The system parameters we need to define are:**\n",
    "\n",
    "* The sun radiation: `sun_radiation` with value `1361`\n",
    "* A constant representing the relationship between temperature and radiation: `temperature_constant` with value `1e-4`\n",
    "* A constant representing CO2 impact on the radiation balance via the greenhouse effect: `co2_reflectance_factor` with value `1e-3`\n",
    "* A unit conversion constant that relates how much gigatons of CO2 we need to have an additional part per million unit in the atmosphere's concentration: `co2_gigatons_to_ppm` with value `1.2e-1`\n",
    "* The standard deviation for the stochastic process generating the yearly CO2 concentration: `co2_stdev` with value `40` ppm\n",
    "* A constant representing how much heat dissipitates into space: `heat_dissipation_constant` with value `2075`\n",
    "\n",
    "**There are two parameters which we want to sweep, which are:**\n",
    "\n",
    "* A parameter which represents the annual CO2 emissions in units of billion tons, which is the `co2_annual_emissions`. Let's sweep three values for it: `0`, `40` and `80`. The first value simulates a scenario where we stop all emissions at once, while using `40` means no additional emissions beyond what we already emmit every year, and `80` means that we are going to double our emissions.\n",
    "* The `year_of_the_wakening`, which is the number of years that must pass before we set the `co2_annual_emissions` to zero. Let's sweep four values for it: `0`, `10`, `50` and `100`.\n",
    "\n",
    "<!--**Create a dictionary and define the above parameters and their initial values:**-->"
   ]
  },
  {
   "cell_type": "code",
   "execution_count": 4,
   "id": "ad4f6b96",
   "metadata": {},
   "outputs": [],
   "source": [
    "system_params = {\n",
    "    'sun_radiation' : [1361],\n",
    "    'temperature_constant' : [1e-4],\n",
    "    'co2_reflectance_factor' : [1e-3],\n",
    "    'co2_gigatons_to_ppm' : [1.2e-1],\n",
    "    'co2_stdev' : [40],\n",
    "    'heat_dissipation_constant' : [2075],\n",
    "    'co2_annual_emissions' : [40, 80, 40, 80, 40, 80, 40, 80],\n",
    "    'year_of_the_wakening' : [0,0,10,10,50,50,100,100]\n",
    "}"
   ]
  },
  {
   "cell_type": "markdown",
   "id": "3059599b",
   "metadata": {},
   "source": [
    "1e10 is scientific notation in Python.\n",
    "It means:\n",
    "👉 1 × 10ⁱ⁰ = 10,000,000,000\n",
    "\n",
    "__1x10xx10 means the same thing:__\n",
    "__👉 1 × (10 to the power of 10) = 10,000,000,000__\n",
    "\n",
    "✅ So what does assert do here?\n",
    "assert checks if both sides are equal.\n",
    "\n",
    "If they are, nothing happens — the code continues.\n",
    "\n",
    "If they're not equal, Python throws an AssertionError.\n",
    "\n",
    "🧠 So in simple terms:\n",
    "“Hey Python, make sure 1e10 and __1 * 10**10 are the same number.”__\n",
    "\n",
    "And they are, so the code passes without errors."
   ]
  },
  {
   "cell_type": "code",
   "execution_count": 5,
   "id": "0779828d",
   "metadata": {},
   "outputs": [],
   "source": [
    "#defining e\n",
    "assert 1e10 == 1*10**10"
   ]
  },
  {
   "cell_type": "markdown",
   "id": "064f1937",
   "metadata": {},
   "source": [
    "### 3. Policy Functions"
   ]
  },
  {
   "cell_type": "code",
   "execution_count": 6,
   "id": "cb48afac",
   "metadata": {},
   "outputs": [],
   "source": [
    "def p_co2_emissions(params, substep, state_history, previous_state):\n",
    "    #Parameters & variables\n",
    "    mean = params['co2_annual_emissions']\n",
    "    std = params['co2_stdev']\n",
    "    conversion_factor = params['co2_gigatons_to_ppm']\n",
    "    t_w = params['year_of_the_wakening']\n",
    "    t = previous_state['timestep']\n",
    "    \n",
    "    #Logic\n",
    "    if t > t_w:\n",
    "        mean = 0\n",
    "    else:\n",
    "        mean = mean\n",
    "    value = normalvariate(mean, std) * conversion_factor\n",
    "    \n",
    "    #Output\n",
    "    return {'add_co2' : value}"
   ]
  },
  {
   "cell_type": "markdown",
   "id": "10b228a0",
   "metadata": {},
   "source": [
    ">__🎯 What does this function do?__\n",
    "\n",
    "It decides __how much extra CO2 goes into the air__ every year, based on how much humans are polluting and how random the weather (or other factors) are.\n",
    "\n",
    ">__🧩 Let’s break it down simply:__\n",
    "\n",
    "Imagine the __Earth is like a big bathtub,__ and __CO2 is water__ going into the tub.\n",
    "The `p_co2_emission` function helps decide:\n",
    "\n",
    "“How much CO2 (water) should we pour into the bathtub this year?”\n",
    "\n",
    ">__🔧 What pieces does it use?__\n",
    "\n",
    "`mean:` How much CO2 we usually add per year (like turning the faucet on)\n",
    "\n",
    "`std:` A number that makes the CO2 amount a little random each year (because life is messy!)\n",
    "\n",
    "`conversion_factor:` Helps us turn \"tons of CO2\" into \"how much it changes the air\"\n",
    "\n",
    "`t_w:` The year when humans wake up and decide to stop polluting\n",
    "\n",
    "`t:` What year it is right now (like keeping track of time in the game)\n",
    "\n",
    ">__🧠 What is the logic?__\n",
    "\n",
    "1. If it's __after the wake-up year__ `(t > t_w)`, people __stop adding CO2,__ so we set `mean = 0`.\n",
    "\n",
    "2. If it’s __before that,__ people keep polluting as normal.\n",
    "\n",
    "3. We then use a random generator (`normalvariate`) to say:\n",
    "\n",
    ">>“This year, we’ll add about `mean` CO2, but maybe a little more or less depending on randomness.”\n",
    "\n",
    "4. Then we multiply by a conversion factor so we can say:\n",
    "\n",
    ">>“This much CO2 turns into this much ppm (air concentration).”\n",
    "\n",
    ">__🔚 What does it give back?__\n",
    "\n",
    "It returns a dictionary like this:\n",
    "\n",
    "{'add_co2': some number}\n",
    "\n",
    "That number is __how much new CO2 gets added__ this year.\n",
    "\n",
    ">__🧪 Example:__\n",
    "\n",
    "Let’s say:\n",
    "\n",
    "-  It's year 5\n",
    "\n",
    "-  People will wake up at year 50\n",
    "\n",
    "-  They currently emit 80 units of CO2 per year\n",
    "\n",
    "The function might randomly return something like:\n",
    "\n",
    "{'add_co2': 8.7}\n",
    "\n",
    "But after year 50, it will always return:\n",
    "\n",
    "{'add_co2': 0.0}\n",
    "\n",
    "Because humans finally __stopped polluting__ 🌍"
   ]
  },
  {
   "cell_type": "code",
   "execution_count": 7,
   "id": "0025e8c9",
   "metadata": {},
   "outputs": [],
   "source": [
    "def p_sun_radiation (params, substep, state_history, previous_state):\n",
    "    #Parameters & variables\n",
    "    g = params['temperature_constant']\n",
    "    a = params['sun_radiation']\n",
    "    \n",
    "    #Logic\n",
    "    temp_change = g * a\n",
    "    \n",
    "    #Output\n",
    "    return {'add_temperature' : temp_change}"
   ]
  },
  {
   "cell_type": "code",
   "execution_count": 8,
   "id": "b9e91f54",
   "metadata": {},
   "outputs": [],
   "source": [
    "def p_earth_cooling (params, substep, state_history, previous_state):\n",
    "    #Parameters & variables\n",
    "    g = params['temperature_constant']\n",
    "    K = params['heat_dissipation_constant']\n",
    "    T = previous_state['temperature']\n",
    "    \n",
    "    #Logic\n",
    "    temp_change = -(g * K * (T/300)**4)\n",
    "    \n",
    "    #Output\n",
    "    return {'add_temperature': temp_change}"
   ]
  },
  {
   "cell_type": "code",
   "execution_count": 9,
   "id": "c9fadedd",
   "metadata": {},
   "outputs": [],
   "source": [
    "def p_greenhouse_effect(params, substep, state_history, previous_state):\n",
    "    # Parameters & variables\n",
    "    g = params['temperature_constant']\n",
    "    K = params['heat_dissipation_constant']\n",
    "    beta = params['co2_reflectance_factor']\n",
    "    T = previous_state['temperature']\n",
    "    CO2 = previous_state['co2']\n",
    "    \n",
    "    # Logic\n",
    "    alpha = (1 - np.exp(-beta * CO2))\n",
    "    temp_change = g * alpha * K * (T / 300) ** 4\n",
    "    \n",
    "    # Output\n",
    "    return {'add_temperature': temp_change}"
   ]
  },
  {
   "cell_type": "markdown",
   "id": "634501bb",
   "metadata": {},
   "source": [
    "### 4. State Update Functions"
   ]
  },
  {
   "cell_type": "code",
   "execution_count": 10,
   "id": "58d249ce",
   "metadata": {},
   "outputs": [],
   "source": [
    "def s_co2 (params, substep, state_history, previous_state, policy_input):\n",
    "    #Parameters & variables\n",
    "    current_co2 = previous_state['co2']\n",
    "    co2_change = policy_input['add_co2']\n",
    "    \n",
    "    #Logic\n",
    "    new_co2 = max(current_co2 + co2_change, 0)\n",
    "    \n",
    "    #Output\n",
    "    return ('co2', new_co2)"
   ]
  },
  {
   "cell_type": "code",
   "execution_count": 11,
   "id": "0f1c9901",
   "metadata": {},
   "outputs": [],
   "source": [
    "def s_temperature (params, substep, state_history, previous_state, policy_input):\n",
    "    #Parametes & variables\n",
    "    current_temp = previous_state['temperature']\n",
    "    temp_change = policy_input['add_temperature']\n",
    "    \n",
    "    #Logic\n",
    "    new_temp = max(current_temp + temp_change, 0)\n",
    "    \n",
    "    #Output\n",
    "    return ('temperature', new_temp)"
   ]
  },
  {
   "cell_type": "markdown",
   "id": "265ea28b",
   "metadata": {},
   "source": [
    "### 5. Partial State Update Blocks"
   ]
  },
  {
   "cell_type": "code",
   "execution_count": 12,
   "id": "d2d5a1ca",
   "metadata": {},
   "outputs": [],
   "source": [
    "partial_state_update_blocks = [\n",
    "    {\n",
    "        'label': 'Temperature dynamics', # Useful metadata to describe our partial state update blocks\n",
    "        'policies': {\n",
    "            'sun_radiation': p_sun_radiation,\n",
    "            'earth_cooling': p_earth_cooling,\n",
    "            'greenhouse_effect': p_greenhouse_effect\n",
    "        },\n",
    "        'variables': {\n",
    "            'temperature': s_temperature\n",
    "            \n",
    "        }\n",
    "    },\n",
    "    {\n",
    "        'label': 'CO2 dynamics', # Useful metadata to describe our partial state update blocks\n",
    "        'policies': {\n",
    "            'co2_emissions': p_co2_emissions\n",
    "        },\n",
    "        'variables': {\n",
    "            'co2': s_co2\n",
    "        }\n",
    "        \n",
    "    }\n",
    "]\n"
   ]
  },
  {
   "cell_type": "markdown",
   "id": "e1bfce7f",
   "metadata": {},
   "source": [
    "### 6. Configuration"
   ]
  },
  {
   "cell_type": "code",
   "execution_count": 13,
   "id": "4477fd7e",
   "metadata": {},
   "outputs": [],
   "source": [
    "MONTE_CARLO_RUNS = 50\n",
    "SIMULATION_TIMESTEPS = 100\n",
    "\n",
    "sim_config = config_sim(\n",
    "    {\n",
    "        'N': MONTE_CARLO_RUNS,\n",
    "        'T': range(SIMULATION_TIMESTEPS),\n",
    "        'M': system_params,\n",
    "    }\n",
    ")\n",
    "\n",
    "from cadCAD import configs\n",
    "del configs[:] # Clear any prior configs\n",
    "\n",
    "experiment = Experiment()\n",
    "experiment.append_configs(\n",
    "    sim_configs=sim_config,\n",
    "    initial_state=initial_state,\n",
    "    partial_state_update_blocks=partial_state_update_blocks\n",
    ")"
   ]
  },
  {
   "cell_type": "markdown",
   "id": "6caf7adc",
   "metadata": {},
   "source": [
    "### 7. Execution"
   ]
  },
  {
   "cell_type": "code",
   "execution_count": 14,
   "id": "209bffdb",
   "metadata": {},
   "outputs": [
    {
     "name": "stdout",
     "output_type": "stream",
     "text": [
      "\n",
      "                  ___________    ____\n",
      "  ________ __ ___/ / ____/   |  / __ \\\n",
      " / ___/ __` / __  / /   / /| | / / / /\n",
      "/ /__/ /_/ / /_/ / /___/ ___ |/ /_/ /\n",
      "\\___/\\__,_/\\__,_/\\____/_/  |_/_____/\n",
      "by cadCAD\n",
      "\n",
      "cadCAD Version: 0.5.3\n",
      "Execution Mode: local_proc\n",
      "Simulation Dimensions:\n",
      "Entire Simulation: (Models, Unique Timesteps, Params, Total Runs, Sub-States) = (1, 100, 8, 400, 2)\n",
      "     Simulation 0: (Timesteps, Params, Runs, Sub-States) = (100, 8, 400, 2)\n"
     ]
    },
    {
     "data": {
      "application/vnd.jupyter.widget-view+json": {
       "model_id": "9eaba443f604420390840e1ab685cfb0",
       "version_major": 2,
       "version_minor": 0
      },
      "text/plain": [
       "Initializing configurations:   0%|          | 0/400 [00:00<?, ?it/s]"
      ]
     },
     "metadata": {},
     "output_type": "display_data"
    },
    {
     "name": "stdout",
     "output_type": "stream",
     "text": [
      "Execution Method: parallelize_simulations\n"
     ]
    },
    {
     "name": "stderr",
     "output_type": "stream",
     "text": [
      "Exception in thread Thread-6:\n",
      "Traceback (most recent call last):\n",
      "  File \"C:\\ProgramData\\Anaconda3\\lib\\threading.py\", line 980, in _bootstrap_inner\n",
      "    self.run()\n",
      "  File \"C:\\ProgramData\\Anaconda3\\lib\\threading.py\", line 917, in run\n",
      "    self._target(*self._args, **self._kwargs)\n",
      "  File \"C:\\Users\\dozbilenler\\AppData\\Roaming\\Python\\Python39\\site-packages\\multiprocess\\pool.py\", line 519, in _handle_workers\n",
      "    cls._wait_for_updates(current_sentinels, change_notifier)\n",
      "  File \"C:\\Users\\dozbilenler\\AppData\\Roaming\\Python\\Python39\\site-packages\\multiprocess\\pool.py\", line 499, in _wait_for_updates\n",
      "    wait(sentinels, timeout=timeout)\n",
      "  File \"C:\\Users\\dozbilenler\\AppData\\Roaming\\Python\\Python39\\site-packages\\multiprocess\\connection.py\", line 882, in wait\n",
      "    ready_handles = _exhaustive_wait(waithandle_to_obj.keys(), timeout)\n",
      "  File \"C:\\Users\\dozbilenler\\AppData\\Roaming\\Python\\Python39\\site-packages\\multiprocess\\connection.py\", line 814, in _exhaustive_wait\n",
      "    res = _winapi.WaitForMultipleObjects(L, False, timeout)\n",
      "ValueError: need at most 63 handles, got a sequence of length 402\n"
     ]
    },
    {
     "ename": "KeyboardInterrupt",
     "evalue": "",
     "output_type": "error",
     "traceback": [
      "\u001b[1;31m---------------------------------------------------------------------------\u001b[0m",
      "\u001b[1;31mKeyboardInterrupt\u001b[0m                         Traceback (most recent call last)",
      "\u001b[1;32m~\\AppData\\Local\\Temp\\ipykernel_16764\\236216182.py\u001b[0m in \u001b[0;36m<module>\u001b[1;34m\u001b[0m\n\u001b[0;32m      2\u001b[0m \u001b[0mrun\u001b[0m \u001b[1;33m=\u001b[0m \u001b[0mExecutor\u001b[0m\u001b[1;33m(\u001b[0m\u001b[0mexec_context\u001b[0m\u001b[1;33m=\u001b[0m\u001b[0mexec_context\u001b[0m\u001b[1;33m,\u001b[0m \u001b[0mconfigs\u001b[0m\u001b[1;33m=\u001b[0m\u001b[0mexperiment\u001b[0m\u001b[1;33m.\u001b[0m\u001b[0mconfigs\u001b[0m\u001b[1;33m)\u001b[0m\u001b[1;33m\u001b[0m\u001b[1;33m\u001b[0m\u001b[0m\n\u001b[0;32m      3\u001b[0m \u001b[1;33m\u001b[0m\u001b[0m\n\u001b[1;32m----> 4\u001b[1;33m \u001b[1;33m(\u001b[0m\u001b[0msystem_events\u001b[0m\u001b[1;33m,\u001b[0m \u001b[0mtensor_field\u001b[0m\u001b[1;33m,\u001b[0m \u001b[0msessions\u001b[0m\u001b[1;33m)\u001b[0m \u001b[1;33m=\u001b[0m \u001b[0mrun\u001b[0m\u001b[1;33m.\u001b[0m\u001b[0mexecute\u001b[0m\u001b[1;33m(\u001b[0m\u001b[1;33m)\u001b[0m\u001b[1;33m\u001b[0m\u001b[1;33m\u001b[0m\u001b[0m\n\u001b[0m",
      "\u001b[1;32m~\\AppData\\Roaming\\Python\\Python39\\site-packages\\cadCAD\\engine\\__init__.py\u001b[0m in \u001b[0;36mexecute\u001b[1;34m(self)\u001b[0m\n\u001b[0;32m    217\u001b[0m                 \u001b[0mprint\u001b[0m\u001b[1;33m(\u001b[0m\u001b[1;34m\"Execution Method: \"\u001b[0m \u001b[1;33m+\u001b[0m \u001b[0mself\u001b[0m\u001b[1;33m.\u001b[0m\u001b[0mexec_method\u001b[0m\u001b[1;33m.\u001b[0m\u001b[0m__name__\u001b[0m\u001b[1;33m)\u001b[0m\u001b[1;33m\u001b[0m\u001b[1;33m\u001b[0m\u001b[0m\n\u001b[0;32m    218\u001b[0m \u001b[1;33m\u001b[0m\u001b[0m\n\u001b[1;32m--> 219\u001b[1;33m             simulations_results = self.exec_method(\n\u001b[0m\u001b[0;32m    220\u001b[0m                 \u001b[0msim_executors\u001b[0m\u001b[1;33m,\u001b[0m \u001b[0mvar_dict_list\u001b[0m\u001b[1;33m,\u001b[0m \u001b[0mstates_lists\u001b[0m\u001b[1;33m,\u001b[0m \u001b[0mconfigs_structs\u001b[0m\u001b[1;33m,\u001b[0m \u001b[0menv_processes_list\u001b[0m\u001b[1;33m,\u001b[0m \u001b[0mTs\u001b[0m\u001b[1;33m,\u001b[0m \u001b[0mSimIDs\u001b[0m\u001b[1;33m,\u001b[0m \u001b[0mRunIDs\u001b[0m\u001b[1;33m,\u001b[0m\u001b[1;33m\u001b[0m\u001b[1;33m\u001b[0m\u001b[0m\n\u001b[0;32m    221\u001b[0m                 \u001b[0mExpIDs\u001b[0m\u001b[1;33m,\u001b[0m \u001b[0mSubsetIDs\u001b[0m\u001b[1;33m,\u001b[0m \u001b[0mSubsetWindows\u001b[0m\u001b[1;33m,\u001b[0m \u001b[0moriginal_N\u001b[0m\u001b[1;33m,\u001b[0m \u001b[0mself\u001b[0m\u001b[1;33m.\u001b[0m\u001b[0madditional_objs\u001b[0m\u001b[1;33m\u001b[0m\u001b[1;33m\u001b[0m\u001b[0m\n",
      "\u001b[1;32m~\\AppData\\Roaming\\Python\\Python39\\site-packages\\cadCAD\\engine\\execution.py\u001b[0m in \u001b[0;36mparallelize_simulations\u001b[1;34m(simulation_execs, var_dict_list, states_lists, configs_structs, env_processes_list, Ts, SimIDs, Ns, ExpIDs, SubsetIDs, SubsetWindows, configured_n, additional_objs)\u001b[0m\n\u001b[0;32m    101\u001b[0m         \u001b[1;32mreturn\u001b[0m \u001b[0mresults\u001b[0m\u001b[1;33m\u001b[0m\u001b[1;33m\u001b[0m\u001b[0m\n\u001b[0;32m    102\u001b[0m \u001b[1;33m\u001b[0m\u001b[0m\n\u001b[1;32m--> 103\u001b[1;33m     \u001b[0mresults\u001b[0m \u001b[1;33m=\u001b[0m \u001b[0mflatten\u001b[0m\u001b[1;33m(\u001b[0m\u001b[0mlist\u001b[0m\u001b[1;33m(\u001b[0m\u001b[0mmap\u001b[0m\u001b[1;33m(\u001b[0m\u001b[1;32mlambda\u001b[0m \u001b[0mparams\u001b[0m\u001b[1;33m:\u001b[0m \u001b[0mprocess_executor\u001b[0m\u001b[1;33m(\u001b[0m\u001b[0mparams\u001b[0m\u001b[1;33m)\u001b[0m\u001b[1;33m,\u001b[0m \u001b[0mnew_params\u001b[0m\u001b[1;33m)\u001b[0m\u001b[1;33m)\u001b[0m\u001b[1;33m)\u001b[0m\u001b[1;33m\u001b[0m\u001b[1;33m\u001b[0m\u001b[0m\n\u001b[0m\u001b[0;32m    104\u001b[0m \u001b[1;33m\u001b[0m\u001b[0m\n\u001b[0;32m    105\u001b[0m     \u001b[1;32mreturn\u001b[0m \u001b[0mresults\u001b[0m\u001b[1;33m\u001b[0m\u001b[1;33m\u001b[0m\u001b[0m\n",
      "\u001b[1;32m~\\AppData\\Roaming\\Python\\Python39\\site-packages\\cadCAD\\engine\\execution.py\u001b[0m in \u001b[0;36m<lambda>\u001b[1;34m(params)\u001b[0m\n\u001b[0;32m    101\u001b[0m         \u001b[1;32mreturn\u001b[0m \u001b[0mresults\u001b[0m\u001b[1;33m\u001b[0m\u001b[1;33m\u001b[0m\u001b[0m\n\u001b[0;32m    102\u001b[0m \u001b[1;33m\u001b[0m\u001b[0m\n\u001b[1;32m--> 103\u001b[1;33m     \u001b[0mresults\u001b[0m \u001b[1;33m=\u001b[0m \u001b[0mflatten\u001b[0m\u001b[1;33m(\u001b[0m\u001b[0mlist\u001b[0m\u001b[1;33m(\u001b[0m\u001b[0mmap\u001b[0m\u001b[1;33m(\u001b[0m\u001b[1;32mlambda\u001b[0m \u001b[0mparams\u001b[0m\u001b[1;33m:\u001b[0m \u001b[0mprocess_executor\u001b[0m\u001b[1;33m(\u001b[0m\u001b[0mparams\u001b[0m\u001b[1;33m)\u001b[0m\u001b[1;33m,\u001b[0m \u001b[0mnew_params\u001b[0m\u001b[1;33m)\u001b[0m\u001b[1;33m)\u001b[0m\u001b[1;33m)\u001b[0m\u001b[1;33m\u001b[0m\u001b[1;33m\u001b[0m\u001b[0m\n\u001b[0m\u001b[0;32m    104\u001b[0m \u001b[1;33m\u001b[0m\u001b[0m\n\u001b[0;32m    105\u001b[0m     \u001b[1;32mreturn\u001b[0m \u001b[0mresults\u001b[0m\u001b[1;33m\u001b[0m\u001b[1;33m\u001b[0m\u001b[0m\n",
      "\u001b[1;32m~\\AppData\\Roaming\\Python\\Python39\\site-packages\\cadCAD\\engine\\execution.py\u001b[0m in \u001b[0;36mprocess_executor\u001b[1;34m(params)\u001b[0m\n\u001b[0;32m     93\u001b[0m         \u001b[1;32mif\u001b[0m \u001b[0mlen_configs_structs\u001b[0m \u001b[1;33m>\u001b[0m \u001b[1;36m1\u001b[0m\u001b[1;33m:\u001b[0m\u001b[1;33m\u001b[0m\u001b[1;33m\u001b[0m\u001b[0m\n\u001b[0;32m     94\u001b[0m             \u001b[1;32mwith\u001b[0m \u001b[0mProcessPool\u001b[0m\u001b[1;33m(\u001b[0m\u001b[0mprocesses\u001b[0m\u001b[1;33m=\u001b[0m\u001b[0mlen_configs_structs\u001b[0m\u001b[1;33m)\u001b[0m \u001b[1;32mas\u001b[0m \u001b[0mpp\u001b[0m\u001b[1;33m:\u001b[0m\u001b[1;33m\u001b[0m\u001b[1;33m\u001b[0m\u001b[0m\n\u001b[1;32m---> 95\u001b[1;33m                 results = pp.map(\n\u001b[0m\u001b[0;32m     96\u001b[0m                     \u001b[1;32mlambda\u001b[0m \u001b[0mt\u001b[0m\u001b[1;33m:\u001b[0m \u001b[0mt\u001b[0m\u001b[1;33m[\u001b[0m\u001b[1;36m0\u001b[0m\u001b[1;33m]\u001b[0m\u001b[1;33m(\u001b[0m\u001b[0mt\u001b[0m\u001b[1;33m[\u001b[0m\u001b[1;36m1\u001b[0m\u001b[1;33m]\u001b[0m\u001b[1;33m,\u001b[0m \u001b[0mt\u001b[0m\u001b[1;33m[\u001b[0m\u001b[1;36m2\u001b[0m\u001b[1;33m]\u001b[0m\u001b[1;33m,\u001b[0m \u001b[0mt\u001b[0m\u001b[1;33m[\u001b[0m\u001b[1;36m3\u001b[0m\u001b[1;33m]\u001b[0m\u001b[1;33m,\u001b[0m \u001b[0mt\u001b[0m\u001b[1;33m[\u001b[0m\u001b[1;36m4\u001b[0m\u001b[1;33m]\u001b[0m\u001b[1;33m,\u001b[0m \u001b[0mt\u001b[0m\u001b[1;33m[\u001b[0m\u001b[1;36m5\u001b[0m\u001b[1;33m]\u001b[0m\u001b[1;33m,\u001b[0m \u001b[0mt\u001b[0m\u001b[1;33m[\u001b[0m\u001b[1;36m6\u001b[0m\u001b[1;33m]\u001b[0m\u001b[1;33m,\u001b[0m \u001b[0mt\u001b[0m\u001b[1;33m[\u001b[0m\u001b[1;36m7\u001b[0m\u001b[1;33m]\u001b[0m\u001b[1;33m,\u001b[0m \u001b[0mt\u001b[0m\u001b[1;33m[\u001b[0m\u001b[1;36m8\u001b[0m\u001b[1;33m]\u001b[0m\u001b[1;33m,\u001b[0m \u001b[0mt\u001b[0m\u001b[1;33m[\u001b[0m\u001b[1;36m9\u001b[0m\u001b[1;33m]\u001b[0m\u001b[1;33m,\u001b[0m \u001b[0mconfigured_n\u001b[0m\u001b[1;33m)\u001b[0m\u001b[1;33m,\u001b[0m \u001b[0mparams\u001b[0m\u001b[1;33m\u001b[0m\u001b[1;33m\u001b[0m\u001b[0m\n\u001b[0;32m     97\u001b[0m                 )\n",
      "\u001b[1;32m~\\AppData\\Roaming\\Python\\Python39\\site-packages\\pathos\\multiprocessing.py\u001b[0m in \u001b[0;36mmap\u001b[1;34m(self, f, *args, **kwds)\u001b[0m\n\u001b[0;32m    152\u001b[0m             \u001b[1;32mif\u001b[0m \u001b[1;32mnot\u001b[0m \u001b[0mOLD312a7\u001b[0m\u001b[1;33m:\u001b[0m\u001b[1;33m\u001b[0m\u001b[1;33m\u001b[0m\u001b[0m\n\u001b[0;32m    153\u001b[0m                 \u001b[0mwarnings\u001b[0m\u001b[1;33m.\u001b[0m\u001b[0mfilterwarnings\u001b[0m\u001b[1;33m(\u001b[0m\u001b[1;34m'ignore'\u001b[0m\u001b[1;33m,\u001b[0m \u001b[0mcategory\u001b[0m\u001b[1;33m=\u001b[0m\u001b[0mDeprecationWarning\u001b[0m\u001b[1;33m)\u001b[0m\u001b[1;33m\u001b[0m\u001b[1;33m\u001b[0m\u001b[0m\n\u001b[1;32m--> 154\u001b[1;33m             \u001b[1;32mreturn\u001b[0m \u001b[0m_pool\u001b[0m\u001b[1;33m.\u001b[0m\u001b[0mmap\u001b[0m\u001b[1;33m(\u001b[0m\u001b[0mstar\u001b[0m\u001b[1;33m(\u001b[0m\u001b[0mf\u001b[0m\u001b[1;33m)\u001b[0m\u001b[1;33m,\u001b[0m \u001b[0mzip\u001b[0m\u001b[1;33m(\u001b[0m\u001b[1;33m*\u001b[0m\u001b[0margs\u001b[0m\u001b[1;33m)\u001b[0m\u001b[1;33m,\u001b[0m \u001b[1;33m**\u001b[0m\u001b[0mkwds\u001b[0m\u001b[1;33m)\u001b[0m\u001b[1;33m\u001b[0m\u001b[1;33m\u001b[0m\u001b[0m\n\u001b[0m\u001b[0;32m    155\u001b[0m     \u001b[0mmap\u001b[0m\u001b[1;33m.\u001b[0m\u001b[0m__doc__\u001b[0m \u001b[1;33m=\u001b[0m \u001b[0mAbstractWorkerPool\u001b[0m\u001b[1;33m.\u001b[0m\u001b[0mmap\u001b[0m\u001b[1;33m.\u001b[0m\u001b[0m__doc__\u001b[0m\u001b[1;33m\u001b[0m\u001b[1;33m\u001b[0m\u001b[0m\n\u001b[0;32m    156\u001b[0m     \u001b[1;32mdef\u001b[0m \u001b[0mimap\u001b[0m\u001b[1;33m(\u001b[0m\u001b[0mself\u001b[0m\u001b[1;33m,\u001b[0m \u001b[0mf\u001b[0m\u001b[1;33m,\u001b[0m \u001b[1;33m*\u001b[0m\u001b[0margs\u001b[0m\u001b[1;33m,\u001b[0m \u001b[1;33m**\u001b[0m\u001b[0mkwds\u001b[0m\u001b[1;33m)\u001b[0m\u001b[1;33m:\u001b[0m\u001b[1;33m\u001b[0m\u001b[1;33m\u001b[0m\u001b[0m\n",
      "\u001b[1;32m~\\AppData\\Roaming\\Python\\Python39\\site-packages\\multiprocess\\pool.py\u001b[0m in \u001b[0;36mmap\u001b[1;34m(self, func, iterable, chunksize)\u001b[0m\n\u001b[0;32m    362\u001b[0m         \u001b[1;32min\u001b[0m \u001b[0ma\u001b[0m \u001b[0mlist\u001b[0m \u001b[0mthat\u001b[0m \u001b[1;32mis\u001b[0m \u001b[0mreturned\u001b[0m\u001b[1;33m.\u001b[0m\u001b[1;33m\u001b[0m\u001b[1;33m\u001b[0m\u001b[0m\n\u001b[0;32m    363\u001b[0m         '''\n\u001b[1;32m--> 364\u001b[1;33m         \u001b[1;32mreturn\u001b[0m \u001b[0mself\u001b[0m\u001b[1;33m.\u001b[0m\u001b[0m_map_async\u001b[0m\u001b[1;33m(\u001b[0m\u001b[0mfunc\u001b[0m\u001b[1;33m,\u001b[0m \u001b[0miterable\u001b[0m\u001b[1;33m,\u001b[0m \u001b[0mmapstar\u001b[0m\u001b[1;33m,\u001b[0m \u001b[0mchunksize\u001b[0m\u001b[1;33m)\u001b[0m\u001b[1;33m.\u001b[0m\u001b[0mget\u001b[0m\u001b[1;33m(\u001b[0m\u001b[1;33m)\u001b[0m\u001b[1;33m\u001b[0m\u001b[1;33m\u001b[0m\u001b[0m\n\u001b[0m\u001b[0;32m    365\u001b[0m \u001b[1;33m\u001b[0m\u001b[0m\n\u001b[0;32m    366\u001b[0m     \u001b[1;32mdef\u001b[0m \u001b[0mstarmap\u001b[0m\u001b[1;33m(\u001b[0m\u001b[0mself\u001b[0m\u001b[1;33m,\u001b[0m \u001b[0mfunc\u001b[0m\u001b[1;33m,\u001b[0m \u001b[0miterable\u001b[0m\u001b[1;33m,\u001b[0m \u001b[0mchunksize\u001b[0m\u001b[1;33m=\u001b[0m\u001b[1;32mNone\u001b[0m\u001b[1;33m)\u001b[0m\u001b[1;33m:\u001b[0m\u001b[1;33m\u001b[0m\u001b[1;33m\u001b[0m\u001b[0m\n",
      "\u001b[1;32m~\\AppData\\Roaming\\Python\\Python39\\site-packages\\multiprocess\\pool.py\u001b[0m in \u001b[0;36mget\u001b[1;34m(self, timeout)\u001b[0m\n\u001b[0;32m    763\u001b[0m \u001b[1;33m\u001b[0m\u001b[0m\n\u001b[0;32m    764\u001b[0m     \u001b[1;32mdef\u001b[0m \u001b[0mget\u001b[0m\u001b[1;33m(\u001b[0m\u001b[0mself\u001b[0m\u001b[1;33m,\u001b[0m \u001b[0mtimeout\u001b[0m\u001b[1;33m=\u001b[0m\u001b[1;32mNone\u001b[0m\u001b[1;33m)\u001b[0m\u001b[1;33m:\u001b[0m\u001b[1;33m\u001b[0m\u001b[1;33m\u001b[0m\u001b[0m\n\u001b[1;32m--> 765\u001b[1;33m         \u001b[0mself\u001b[0m\u001b[1;33m.\u001b[0m\u001b[0mwait\u001b[0m\u001b[1;33m(\u001b[0m\u001b[0mtimeout\u001b[0m\u001b[1;33m)\u001b[0m\u001b[1;33m\u001b[0m\u001b[1;33m\u001b[0m\u001b[0m\n\u001b[0m\u001b[0;32m    766\u001b[0m         \u001b[1;32mif\u001b[0m \u001b[1;32mnot\u001b[0m \u001b[0mself\u001b[0m\u001b[1;33m.\u001b[0m\u001b[0mready\u001b[0m\u001b[1;33m(\u001b[0m\u001b[1;33m)\u001b[0m\u001b[1;33m:\u001b[0m\u001b[1;33m\u001b[0m\u001b[1;33m\u001b[0m\u001b[0m\n\u001b[0;32m    767\u001b[0m             \u001b[1;32mraise\u001b[0m \u001b[0mTimeoutError\u001b[0m\u001b[1;33m\u001b[0m\u001b[1;33m\u001b[0m\u001b[0m\n",
      "\u001b[1;32m~\\AppData\\Roaming\\Python\\Python39\\site-packages\\multiprocess\\pool.py\u001b[0m in \u001b[0;36mwait\u001b[1;34m(self, timeout)\u001b[0m\n\u001b[0;32m    760\u001b[0m \u001b[1;33m\u001b[0m\u001b[0m\n\u001b[0;32m    761\u001b[0m     \u001b[1;32mdef\u001b[0m \u001b[0mwait\u001b[0m\u001b[1;33m(\u001b[0m\u001b[0mself\u001b[0m\u001b[1;33m,\u001b[0m \u001b[0mtimeout\u001b[0m\u001b[1;33m=\u001b[0m\u001b[1;32mNone\u001b[0m\u001b[1;33m)\u001b[0m\u001b[1;33m:\u001b[0m\u001b[1;33m\u001b[0m\u001b[1;33m\u001b[0m\u001b[0m\n\u001b[1;32m--> 762\u001b[1;33m         \u001b[0mself\u001b[0m\u001b[1;33m.\u001b[0m\u001b[0m_event\u001b[0m\u001b[1;33m.\u001b[0m\u001b[0mwait\u001b[0m\u001b[1;33m(\u001b[0m\u001b[0mtimeout\u001b[0m\u001b[1;33m)\u001b[0m\u001b[1;33m\u001b[0m\u001b[1;33m\u001b[0m\u001b[0m\n\u001b[0m\u001b[0;32m    763\u001b[0m \u001b[1;33m\u001b[0m\u001b[0m\n\u001b[0;32m    764\u001b[0m     \u001b[1;32mdef\u001b[0m \u001b[0mget\u001b[0m\u001b[1;33m(\u001b[0m\u001b[0mself\u001b[0m\u001b[1;33m,\u001b[0m \u001b[0mtimeout\u001b[0m\u001b[1;33m=\u001b[0m\u001b[1;32mNone\u001b[0m\u001b[1;33m)\u001b[0m\u001b[1;33m:\u001b[0m\u001b[1;33m\u001b[0m\u001b[1;33m\u001b[0m\u001b[0m\n",
      "\u001b[1;32mC:\\ProgramData\\Anaconda3\\lib\\threading.py\u001b[0m in \u001b[0;36mwait\u001b[1;34m(self, timeout)\u001b[0m\n\u001b[0;32m    579\u001b[0m             \u001b[0msignaled\u001b[0m \u001b[1;33m=\u001b[0m \u001b[0mself\u001b[0m\u001b[1;33m.\u001b[0m\u001b[0m_flag\u001b[0m\u001b[1;33m\u001b[0m\u001b[1;33m\u001b[0m\u001b[0m\n\u001b[0;32m    580\u001b[0m             \u001b[1;32mif\u001b[0m \u001b[1;32mnot\u001b[0m \u001b[0msignaled\u001b[0m\u001b[1;33m:\u001b[0m\u001b[1;33m\u001b[0m\u001b[1;33m\u001b[0m\u001b[0m\n\u001b[1;32m--> 581\u001b[1;33m                 \u001b[0msignaled\u001b[0m \u001b[1;33m=\u001b[0m \u001b[0mself\u001b[0m\u001b[1;33m.\u001b[0m\u001b[0m_cond\u001b[0m\u001b[1;33m.\u001b[0m\u001b[0mwait\u001b[0m\u001b[1;33m(\u001b[0m\u001b[0mtimeout\u001b[0m\u001b[1;33m)\u001b[0m\u001b[1;33m\u001b[0m\u001b[1;33m\u001b[0m\u001b[0m\n\u001b[0m\u001b[0;32m    582\u001b[0m             \u001b[1;32mreturn\u001b[0m \u001b[0msignaled\u001b[0m\u001b[1;33m\u001b[0m\u001b[1;33m\u001b[0m\u001b[0m\n\u001b[0;32m    583\u001b[0m \u001b[1;33m\u001b[0m\u001b[0m\n",
      "\u001b[1;32mC:\\ProgramData\\Anaconda3\\lib\\threading.py\u001b[0m in \u001b[0;36mwait\u001b[1;34m(self, timeout)\u001b[0m\n\u001b[0;32m    310\u001b[0m         \u001b[1;32mtry\u001b[0m\u001b[1;33m:\u001b[0m    \u001b[1;31m# restore state no matter what (e.g., KeyboardInterrupt)\u001b[0m\u001b[1;33m\u001b[0m\u001b[1;33m\u001b[0m\u001b[0m\n\u001b[0;32m    311\u001b[0m             \u001b[1;32mif\u001b[0m \u001b[0mtimeout\u001b[0m \u001b[1;32mis\u001b[0m \u001b[1;32mNone\u001b[0m\u001b[1;33m:\u001b[0m\u001b[1;33m\u001b[0m\u001b[1;33m\u001b[0m\u001b[0m\n\u001b[1;32m--> 312\u001b[1;33m                 \u001b[0mwaiter\u001b[0m\u001b[1;33m.\u001b[0m\u001b[0macquire\u001b[0m\u001b[1;33m(\u001b[0m\u001b[1;33m)\u001b[0m\u001b[1;33m\u001b[0m\u001b[1;33m\u001b[0m\u001b[0m\n\u001b[0m\u001b[0;32m    313\u001b[0m                 \u001b[0mgotit\u001b[0m \u001b[1;33m=\u001b[0m \u001b[1;32mTrue\u001b[0m\u001b[1;33m\u001b[0m\u001b[1;33m\u001b[0m\u001b[0m\n\u001b[0;32m    314\u001b[0m             \u001b[1;32melse\u001b[0m\u001b[1;33m:\u001b[0m\u001b[1;33m\u001b[0m\u001b[1;33m\u001b[0m\u001b[0m\n",
      "\u001b[1;31mKeyboardInterrupt\u001b[0m: "
     ]
    }
   ],
   "source": [
    "exec_context = ExecutionContext()\n",
    "run = Executor(exec_context=exec_context, configs=experiment.configs)\n",
    "\n",
    "(system_events, tensor_field, sessions) = run.execute()"
   ]
  },
  {
   "cell_type": "code",
   "execution_count": null,
   "id": "2eb7a435",
   "metadata": {},
   "outputs": [],
   "source": [
    "# Get system events and attribute index\n",
    "df = (pd.DataFrame(system_events)\n",
    "      .assign(years = lambda df: df.timestep)\n",
    "      .assign(temperature_celsius = lambda df: df.temperature - 273)\n",
    "      .query('timestep > 0')\n",
    "     )\n",
    "\n",
    "#clean substeps\n",
    "first_ind = (df.substep == 0) & (df.timestep == 0)\n",
    "last_ind = df.substep == max(df.substep)\n",
    "inds_to_drop = (first_ind | last_ind)\n",
    "df = df.loc[inds_to_drop].drop(columns = ['substep'])\n",
    "\n",
    "#Attribute parameters to each row\n",
    "df = df.assign(**experiment.configs[0].sim_config['M'])\n",
    "for i, (_, n_df) in enumerate(df.groupby(['simulation', 'subset', 'run'])):\n",
    "    df.loc[n_df.index] = n_df.assign(**experiment.configs[i].sim_config['M'])"
   ]
  },
  {
   "cell_type": "markdown",
   "id": "57e65eba",
   "metadata": {},
   "source": [
    "1. __Turn simulation results into a table and add useful columns__\n",
    "\n",
    "`df = (pd.DataFrame(system_events)\n",
    "      .assign(years = lambda df: df.timestep)\n",
    "      .assign(temperature_celsius = lambda df: df.temperature - 273)\n",
    "      .query('timestep > 0')\n",
    "     )`\n",
    "     \n",
    "👉 We take the simulation results (`system_events`) and turn them into a table called `df`.\n",
    "\n",
    "We add a column called `years`, which is just the `timestep` (like how many years have passed).\n",
    "\n",
    "We also create a new column called `temperature_celsius`, by changing the temperature from __Kelvin__ (used in science) to __Celsius__ (what people use in daily life) by subtracting 273.\n",
    "\n",
    "Then we say: __“Only keep the rows where `timestep` is more than 0”__ — because we don’t care about the very first moment (it's like skipping the first second of a video).\n",
    "\n",
    "2. __Remove extra rows from the start and end of each update step__\n",
    "\n",
    "`first_ind = (df.substep == 0) & (df.timestep == 0)\n",
    "last_ind = df.substep == max(df.substep)\n",
    "inds_to_drop = (first_ind | last_ind)\n",
    "df = df.loc[inds_to_drop].drop(columns = ['substep'])`\n",
    "\n",
    "👉 cadCAD simulations split each step into smaller pieces called __substeps__.\n",
    "\n",
    "- We figure out which rows are at the __very beginning__ or __very end__ of these updates (we don't need those — they're a bit messy).\n",
    "\n",
    "- We __keep only those__ (`inds_to_drop`) and remove the column called substep because we don’t need it anymore.\n",
    "\n",
    "3. __Add the parameters that were used for each simulation__\n",
    "\n",
    "\n",
    "`df = df.assign(**configs[0].sim_config['M'])`\n",
    "\n",
    "👉 We look at the first simulation setup (`configs[0]`) and __add the input parameters__ (like sun radiation, emissions, etc.) as new columns in our table so we know which numbers were used for each run.\n",
    "\n",
    "4. __Fix this for each simulation run__\n",
    "\n",
    "`for i, (_, n_df) in enumerate(df.groupby(['simulation', 'subset', 'run'])):\n",
    "    df.loc[n_df.index] = n_df.assign(**configs[i].sim_config['M'])`\n",
    "    \n",
    "👉 We’re looping through __each simulation run__ (like round 1, round 2, etc.) and making sure each group of rows gets __their exact parameter values__. This is important because we ran many scenarios, and we want to match the results to the correct inputs.\n",
    "\n",
    "🧠 __Summary for a 10-Year-Old__\n",
    "\n",
    "\"We’re taking a big list of results from our experiment, turning it into a table, and cleaning it up by:\n",
    "\n",
    "- Adding new info like Celsius temperature and years,\n",
    "\n",
    "- Throwing away some messy rows we don’t need,\n",
    "\n",
    "- And finally attaching a label to each row that tells us what settings were used when that result was made — kind of like writing names on our LEGO builds so we remember what we were testing.”"
   ]
  },
  {
   "cell_type": "markdown",
   "id": "428f596b",
   "metadata": {},
   "source": [
    "## What-if Matrix"
   ]
  },
  {
   "cell_type": "markdown",
   "id": "040f281e",
   "metadata": {},
   "source": [
    "What-if-question | Type of experiment | Variables / parameters | Values / Ranges to be tested\n",
    "- | - | - | -\n",
    "How will the __Earth's average temperature__ develop over the next 100 years, if we keep CO2 emissions __unchanged__ at today’s annual emission levels vs. a __doubling__ of today’s emission levels? | Parameter Sweep + Monte Carlo runs | co2_annual_emissions | 40 and 80 Gigatons\n",
    "How will the __rate of annual temperature change__ develop over the next 100 years if we keep CO2 emissions __unchanged__ at today’s annual emission levels vs. a __doubling__ of today’s emission levels? | Parameter Sweep + Monte Carlo runs | co2_annual_emissions | 40 and 80 Gigatons\n",
    "How will the __rate of annual temperature change__ develop over the next 100 years if we are able to reduce annual CO2 emissions to __zero__ after a given number of years? | Parameter Sweep + Monte Carlo runs | year_of_the_wakening | 0, 10, 50 and 100 years\n",
    "How will the __Earth's average temperature__ develop over the next 100 years if we are able to reduce annual CO2 emissions to __zero__ after a given number of years? | Parameter Sweep + Monte Carlo runs | year_of_the_wakening | 0, 10, 50 and 100 years"
   ]
  },
  {
   "cell_type": "markdown",
   "id": "ce60959e",
   "metadata": {},
   "source": [
    "## System Analysis"
   ]
  },
  {
   "cell_type": "markdown",
   "id": "53cac4cb",
   "metadata": {},
   "source": [
    "### Analysis 1: How will the Earth's average temperature develop over the next 100 years, if we keep CO2 emissions unchanged at today’s annual emission levels vs. a doubling of today’s emission levels?"
   ]
  },
  {
   "cell_type": "code",
   "execution_count": null,
   "id": "98bed6dd",
   "metadata": {},
   "outputs": [],
   "source": [
    "fig_df = df.query('year_of_the_wakening == 100')\n",
    "\n",
    "fig = px.scatter(\n",
    "    fig_df,\n",
    "    x=fig_df.years,\n",
    "    y=fig_df.temperature_celsius,\n",
    "    color=fig_df.co2_annual_emissions.astype(str),\n",
    "    opacity=0.1,\n",
    "    trendline=\"lowess\",\n",
    "    labels={'color': 'Yearly CO2 emissions (Gt)'}\n",
    ")\n",
    "\n",
    "fig.show()"
   ]
  },
  {
   "cell_type": "code",
   "execution_count": null,
   "id": "bf02db60",
   "metadata": {},
   "outputs": [],
   "source": []
  }
 ],
 "metadata": {
  "kernelspec": {
   "display_name": "Python 3 (ipykernel)",
   "language": "python",
   "name": "python3"
  },
  "language_info": {
   "codemirror_mode": {
    "name": "ipython",
    "version": 3
   },
   "file_extension": ".py",
   "mimetype": "text/x-python",
   "name": "python",
   "nbconvert_exporter": "python",
   "pygments_lexer": "ipython3",
   "version": "3.9.13"
  }
 },
 "nbformat": 4,
 "nbformat_minor": 5
}
